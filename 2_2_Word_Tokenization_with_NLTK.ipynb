{
  "nbformat": 4,
  "nbformat_minor": 0,
  "metadata": {
    "colab": {
      "provenance": [],
      "authorship_tag": "ABX9TyNrnWF7DAuItuedU1zuNLkB",
      "include_colab_link": true
    },
    "kernelspec": {
      "name": "python3",
      "display_name": "Python 3"
    },
    "language_info": {
      "name": "python"
    }
  },
  "cells": [
    {
      "cell_type": "markdown",
      "metadata": {
        "id": "view-in-github",
        "colab_type": "text"
      },
      "source": [
        "<a href=\"https://colab.research.google.com/github/babupallam/Applied-AI---NLP-NTLK-Use-Cases-Using_Colab/blob/main/2_2_Word_Tokenization_with_NLTK.ipynb\" target=\"_parent\"><img src=\"https://colab.research.google.com/assets/colab-badge.svg\" alt=\"Open In Colab\"/></a>"
      ]
    },
    {
      "cell_type": "markdown",
      "source": [
        "# 1. Word Tokenization\n",
        "\n",
        "- process of splitting block of text into words.\n",
        "- Applications:\n",
        "  - text classification\n",
        "  - language modeling"
      ],
      "metadata": {
        "id": "8_DOQdvroHp2"
      }
    },
    {
      "cell_type": "code",
      "execution_count": null,
      "metadata": {
        "colab": {
          "base_uri": "https://localhost:8080/"
        },
        "id": "QH08C7bnoD6p",
        "outputId": "00ecdcfc-5b27-499b-b026-baf5dbf81ef2"
      },
      "outputs": [
        {
          "output_type": "stream",
          "name": "stderr",
          "text": [
            "[nltk_data] Downloading package punkt to /root/nltk_data...\n",
            "[nltk_data]   Unzipping tokenizers/punkt.zip.\n"
          ]
        },
        {
          "output_type": "execute_result",
          "data": {
            "text/plain": [
              "True"
            ]
          },
          "metadata": {},
          "execution_count": 1
        }
      ],
      "source": [
        "# import libraries\n",
        "\n",
        "import nltk\n",
        "nltk.download('punkt')  # 'punkt' is the tokenizer model used by NLTK for sentence tokenization\n"
      ]
    },
    {
      "cell_type": "code",
      "source": [
        "#data input\n",
        "\n",
        "text = \"NLTK is a leading platform for building Python programs to work with human language data.\"\n"
      ],
      "metadata": {
        "id": "1yuZzYeuolix"
      },
      "execution_count": null,
      "outputs": []
    },
    {
      "cell_type": "code",
      "source": [
        "# Perform word Tokenization:\n",
        "from nltk.tokenize import word_tokenize\n",
        "\n",
        "words = word_tokenize(text)\n",
        "print(words)\n",
        "\n"
      ],
      "metadata": {
        "colab": {
          "base_uri": "https://localhost:8080/"
        },
        "id": "n99xISJXonaj",
        "outputId": "0f19ef88-199b-4334-9c98-b65eabc84755"
      },
      "execution_count": null,
      "outputs": [
        {
          "output_type": "stream",
          "name": "stdout",
          "text": [
            "['NLTK', 'is', 'a', 'leading', 'platform', 'for', 'building', 'Python', 'programs', 'to', 'work', 'with', 'human', 'language', 'data', '.']\n"
          ]
        }
      ]
    },
    {
      "cell_type": "code",
      "source": [],
      "metadata": {
        "id": "3Rvmv1ANo4Qk"
      },
      "execution_count": null,
      "outputs": []
    }
  ]
}